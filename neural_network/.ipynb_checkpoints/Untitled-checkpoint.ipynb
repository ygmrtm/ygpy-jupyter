{
 "cells": [
  {
   "cell_type": "code",
   "execution_count": 1,
   "metadata": {},
   "outputs": [
    {
     "name": "stdout",
     "output_type": "stream",
     "text": [
      "Success, no error!\n"
     ]
    }
   ],
   "source": [
    "try:\n",
    "    from pandas_datareader import data as pdr\n",
    "    from datetime import date\n",
    "    import matplotlib.pyplot as plt\n",
    "    import yfinance as yf\n",
    "    yf.pdr_override()\n",
    "    import pandas as pd    \n",
    "except ModuleNotFoundError:\n",
    "    print(\"Error loading Modules: \",ModuleNotFoundError)\n",
    "    %pip install pandas_datareader\n",
    "    %pip install yfinance\n",
    "    %pip install matplotlib\n",
    "else:  \n",
    "    print (\"Success, no error!\")"
   ]
  },
  {
   "cell_type": "code",
   "execution_count": 2,
   "metadata": {},
   "outputs": [],
   "source": [
    "# Tickers list\n",
    "# We can add and delete any ticker from the list to get desired ticker live data\n",
    "ticker_list=['DJIA', 'DOW', 'LB', 'EXPE', 'PXD', 'MCHP', 'CRM' , 'NRG', 'HFC', 'NOW','SPY','AAPL', 'MSFT', '^GSPC','INPX']"
   ]
  },
  {
   "cell_type": "code",
   "execution_count": 3,
   "metadata": {},
   "outputs": [],
   "source": [
    "today = date.today()\n",
    "# We can get data by our choice by giving days bracket\n",
    "start_date= '1950-01-01'\n",
    "files=[]"
   ]
  },
  {
   "cell_type": "code",
   "execution_count": 4,
   "metadata": {},
   "outputs": [
    {
     "name": "stdout",
     "output_type": "stream",
     "text": [
      "DJIA\n",
      "[*********************100%***********************]  1 of 1 completed\n",
      "DOW\n",
      "[*********************100%***********************]  1 of 1 completed\n",
      "LB\n",
      "[*********************100%***********************]  1 of 1 completed\n",
      "EXPE\n",
      "[*********************100%***********************]  1 of 1 completed\n",
      "PXD\n",
      "[*********************100%***********************]  1 of 1 completed\n",
      "MCHP\n",
      "[*********************100%***********************]  1 of 1 completed\n",
      "CRM\n",
      "[*********************100%***********************]  1 of 1 completed\n",
      "NRG\n",
      "[*********************100%***********************]  1 of 1 completed\n",
      "HFC\n",
      "[*********************100%***********************]  1 of 1 completed\n",
      "NOW\n",
      "[*********************100%***********************]  1 of 1 completed\n",
      "SPY\n",
      "[*********************100%***********************]  1 of 1 completed\n",
      "AAPL\n",
      "[*********************100%***********************]  1 of 1 completed\n",
      "MSFT\n",
      "[*********************100%***********************]  1 of 1 completed\n",
      "^GSPC\n",
      "[*********************100%***********************]  1 of 1 completed\n",
      "INPX\n",
      "[*********************100%***********************]  1 of 1 completed\n"
     ]
    }
   ],
   "source": [
    "def getData(ticker):\n",
    "    print (ticker)\n",
    "    #data = pdr.DataReader('INPX', start_date, end_date)\n",
    "    data = pdr.get_data_yahoo(ticker, start=start_date, end=today)\n",
    "    dataname = ticker+'_'+str(today)\n",
    "    if data is not None:\n",
    "        files.append(dataname)\n",
    "        SaveData(data, dataname)\n",
    "    \n",
    "# Create a data folder in your current dir.\n",
    "def SaveData(df, filename):\n",
    "    df.to_csv('../data/'+filename+'.csv')\n",
    "\n",
    "#This loop will iterate over ticker list, will pass one ticker to get data, and save that data as file.\n",
    "for tik in ticker_list:\n",
    "    getData(tik)"
   ]
  }
 ],
 "metadata": {
  "kernelspec": {
   "display_name": "Python 3",
   "language": "python",
   "name": "python3"
  },
  "language_info": {
   "codemirror_mode": {
    "name": "ipython",
    "version": 3
   },
   "file_extension": ".py",
   "mimetype": "text/x-python",
   "name": "python",
   "nbconvert_exporter": "python",
   "pygments_lexer": "ipython3",
   "version": "3.8.6"
  }
 },
 "nbformat": 4,
 "nbformat_minor": 4
}
