{
 "cells": [
  {
   "cell_type": "code",
   "execution_count": null,
   "metadata": {},
   "outputs": [],
   "source": [
    "try:\n",
    "    import import_ipynb    \n",
    "except ModuleNotFoundError:\n",
    "    print(\"Error loading Modules: \",ModuleNotFoundError)\n",
    "    %pip install import_ipynb\n",
    "else:  \n",
    "    from datetime import date\n",
    "    import pandas as pd  \n",
    "    import download_from_yahoofinance as files"
   ]
  },
  {
   "cell_type": "code",
   "execution_count": null,
   "metadata": {},
   "outputs": [],
   "source": [
    "today = files.today\n",
    "ticker_list = files.ticker_list\n",
    "chunks_days = 7 #based on this days, will create a sheet day1...day2...dayn = dayn+1"
   ]
  },
  {
   "cell_type": "code",
   "execution_count": null,
   "metadata": {},
   "outputs": [],
   "source": [
    "def plot_all_columns(analize):\n",
    "    '''Suppose we would like to plot the MSFT time-series. We would also like to see how the stock behaves \n",
    "    compared to a short and longer term moving average of its price. A simple moving average of the original \n",
    "    time-series is calculated by taking for each date the average of the last W prices (including the price \n",
    "    on the date of interest). pandas has rolling(), a built in function for Series which returns a rolling \n",
    "    object for a user-defined window, e.g. 20 days. Once a rolling object has been obtained, a number of \n",
    "    functions can be applied on it,such as sum(), std() (to calculate the standard deviation of the values \n",
    "    in the window) or mean(). See below:'''\n",
    "\n",
    "    column = ''\n",
    "    for column in analize.columns:\n",
    "        plot = analize.tail(365)\n",
    "        plot = plot.loc[:, column] \n",
    "        # Calculate the 20 and 100 days moving averages of the closing prices\n",
    "        short_rolling_msft = plot.rolling(window=20).mean()\n",
    "        long_rolling_msft = plot.rolling(window=100).mean()\n",
    "\n",
    "        # Plot everything by leveraging the very powerful matplotlib package\n",
    "        fig, ax = plt.subplots(figsize=(16,9))\n",
    "\n",
    "        ax.plot(plot.index, plot, label=column)\n",
    "        ax.plot(short_rolling_msft.index, short_rolling_msft, label='20 days rolling')\n",
    "        ax.plot(long_rolling_msft.index, long_rolling_msft, label='100 days rolling')\n",
    "\n",
    "        ax.set_xlabel('Date')\n",
    "        ax.set_ylabel('Adjusted closing price ($)')\n",
    "        ax.legend()        "
   ]
  },
  {
   "cell_type": "code",
   "execution_count": null,
   "metadata": {},
   "outputs": [],
   "source": [
    "for tik in ticker_list:\n",
    "    print('===========> '+str(tik+'_'+str(today)+'.csv'))\n",
    "    df1= pd.read_csv('../data/'+tik+'_'+str(today)+'.csv')\n",
    "\n",
    "    # Getting just the adjusted closing prices. This will return a Pandas DataFrame\n",
    "    # The index in this DataFrame is the major index of the panel_data.\n",
    "    analize_df = df1.loc[:,('Date','Open','High','Low','Close','Volume')]   \n",
    "    analize_df = analize_df.set_index('Date')\n",
    "    print(analize_df.describe())\n",
    "    ########################\n",
    "    size_of_df = len(df1)\n",
    "    final_df = pd.DataFrame()\n",
    "    for start_index in range(size_of_df) : \n",
    "        end_index = start_index + chunks_days + 1\n",
    "        if end_index < size_of_df:\n",
    "            just_few_days = df1.loc[start_index:end_index,('High','Low','Close','Volume')]  \n",
    "            #print(\"from{0}to{1}\".format(start_index,end_index))\n",
    "            indicator=0\n",
    "            temp_df = pd.DataFrame()\n",
    "            for index, row in just_few_days.iterrows():\n",
    "                if indicator == 0:\n",
    "                    temp_df = temp_df.append({'High{0}'.format(indicator): row['High']}, ignore_index=True)\n",
    "                else:\n",
    "                    temp_df['High{0}'.format(indicator)] = row['High']\n",
    "                temp_df['Low{0}'.format(indicator)] = row['Low']\n",
    "                temp_df['Close{0}'.format(indicator)] = row['Close']\n",
    "                temp_df['Volume{0}'.format(indicator)] = row['Volume']\n",
    "                indicator+=1\n",
    "            final_df = final_df.append(temp_df, ignore_index=True)\n",
    "        #if start_index >= 10:\n",
    "        #    break #only first 10 chunks\n",
    "    print(final_df)\n",
    "    files.SaveData(final_df, str(tik+'_pivot.csv'))\n",
    "    # break #only one CSV"
   ]
  },
  {
   "cell_type": "code",
   "execution_count": null,
   "metadata": {},
   "outputs": [],
   "source": []
  },
  {
   "cell_type": "code",
   "execution_count": null,
   "metadata": {},
   "outputs": [],
   "source": []
  },
  {
   "cell_type": "code",
   "execution_count": null,
   "metadata": {},
   "outputs": [],
   "source": []
  }
 ],
 "metadata": {
  "kernelspec": {
   "display_name": "Python 3",
   "language": "python",
   "name": "python3"
  },
  "language_info": {
   "codemirror_mode": {
    "name": "ipython",
    "version": 3
   },
   "file_extension": ".py",
   "mimetype": "text/x-python",
   "name": "python",
   "nbconvert_exporter": "python",
   "pygments_lexer": "ipython3",
   "version": "3.8.6"
  }
 },
 "nbformat": 4,
 "nbformat_minor": 4
}
